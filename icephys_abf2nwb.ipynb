{
 "cells": [
  {
   "cell_type": "markdown",
   "id": "afff2eca",
   "metadata": {},
   "source": [
    "# Converting .abf to NWB\n",
    "- see `clampfit_abf_standardization_nwb.pptx`\n",
    "- see Sharepoint: `Documents/data/data_standardization/pclamp_clampfit_icephys`\n",
    "- see `ephys_nwb_params.xlsx`: this is maintained by experimenter\n",
    "- **BE SURE TO SET**\n",
    "    - **EXCEL FILE NAME** (`ephys_nwb_params.xlsx` in this example)\n",
    "    - **ABF DIRECTORY** (`abf_data` in this example)"
   ]
  },
  {
   "cell_type": "code",
   "execution_count": 1,
   "id": "7cfa57d8",
   "metadata": {},
   "outputs": [
    {
     "name": "stderr",
     "output_type": "stream",
     "text": [
      "/Users/pacody/Documents/code/icephys_abf2nwb/env/lib/python3.13/site-packages/pynwb/file.py:158: UserWarning: Date is missing timezone information. Updating to local timezone.\n",
      "  args_to_set['date_of_birth'] = _add_missing_timezone(date_of_birth)\n",
      "/Users/pacody/Documents/code/icephys_abf2nwb/env/lib/python3.13/site-packages/pynwb/file.py:486: UserWarning: Date is missing timezone information. Updating to local timezone.\n",
      "  args_to_set['session_start_time'] = _add_missing_timezone(session_start_time)\n"
     ]
    },
    {
     "name": "stdout",
     "output_type": "stream",
     "text": [
      "Finished NWB conversion for experiment 2025053001\n"
     ]
    },
    {
     "name": "stderr",
     "output_type": "stream",
     "text": [
      "/Users/pacody/Documents/code/icephys_abf2nwb/env/lib/python3.13/site-packages/pynwb/file.py:158: UserWarning: Date is missing timezone information. Updating to local timezone.\n",
      "  args_to_set['date_of_birth'] = _add_missing_timezone(date_of_birth)\n",
      "/Users/pacody/Documents/code/icephys_abf2nwb/env/lib/python3.13/site-packages/pynwb/file.py:486: UserWarning: Date is missing timezone information. Updating to local timezone.\n",
      "  args_to_set['session_start_time'] = _add_missing_timezone(session_start_time)\n"
     ]
    },
    {
     "name": "stdout",
     "output_type": "stream",
     "text": [
      "Finished NWB conversion for experiment 2025053101\n"
     ]
    }
   ],
   "source": [
    "import pandas as pd\n",
    "from pathlib import Path\n",
    "from neuroconv.datainterfaces import AbfInterface\n",
    "\n",
    "# Path to Excel and ABF files\n",
    "excel_path = Path(\"./ephys_nwb_params.xlsx\")\n",
    "ECEPHY_DATA_PATH = Path(\"./abf_data\")\n",
    "output_folder = Path(\"./nwb_files\")\n",
    "output_folder.mkdir(parents=True, exist_ok=True)\n",
    "\n",
    "# Load Excel file\n",
    "df = pd.read_excel(excel_path)\n",
    "df = df.iloc[1:]  # Drop the first row after the header (provides data naming example)\n",
    "\n",
    "# Group by EXPERIMENT ID to process multiple sessions per experiment\n",
    "grouped = df.groupby(\"EXPERIMENT ID\")\n",
    "\n",
    "for experiment_id, group in grouped:\n",
    "    # Extract shared metadata (assumed constant within experiment)\n",
    "    first_row = group.iloc[0]\n",
    "\n",
    "    # Construct icephys_metadata\n",
    "    icephys_metadata = {\n",
    "        \"cell_id\": first_row[\"cell_id\"],\n",
    "        \"slice_id\": first_row[\"slice_id\"],\n",
    "        \"targeted_layer\": first_row[\"targeted_layer\"],\n",
    "        \"inferred_layer\": first_row.get(\"inferred_layer\", \"\"),\n",
    "        \"recording_sessions\": [\n",
    "            {\n",
    "                \"abf_file_name\": row[\".abf file\"],\n",
    "                \"stimulus_type\": row[\"stimulus_type\"],\n",
    "                \"icephys_experiment_type\": row[\"icephys_experiment_type\"]\n",
    "            }\n",
    "            for _, row in group.iterrows()\n",
    "        ]\n",
    "    }\n",
    "\n",
    "    abf_file_paths = [ECEPHY_DATA_PATH / row[\".abf file\"] for _, row in group.iterrows()]\n",
    "\n",
    "    # Instantiate data interface\n",
    "    interface = AbfInterface(\n",
    "        file_paths=abf_file_paths,\n",
    "        icephys_metadata=icephys_metadata\n",
    "    )\n",
    "\n",
    "    # Retrieve and update metadata\n",
    "    metadata = interface.get_metadata()\n",
    "    metadata['NWBFile'].update(\n",
    "        identifier=str(experiment_id),\n",
    "        session_description=first_row[\"session_description\"],\n",
    "        lab=\"my lab name\",\n",
    "        institution=\"My University\",\n",
    "        experimenter=[\"John Doe\", \"Jane Doe\"]\n",
    "    )\n",
    "    metadata[\"Subject\"] = {\n",
    "        \"subject_id\": first_row[\"subject_id\"],\n",
    "        \"species\": first_row[\"species\"],\n",
    "        \"sex\": first_row[\"sex\"],\n",
    "        \"date_of_birth\": str(first_row[\"date_of_birth\"])\n",
    "    }\n",
    "\n",
    "    # Run conversion\n",
    "    nwb_output_path = output_folder / f\"{experiment_id}.nwb\"\n",
    "    interface.run_conversion(nwbfile_path=nwb_output_path, metadata=metadata)\n",
    "\n",
    "    print(f\"Finished NWB conversion for experiment {experiment_id}\")"
   ]
  }
 ],
 "metadata": {
  "kernelspec": {
   "display_name": "env",
   "language": "python",
   "name": "python3"
  },
  "language_info": {
   "codemirror_mode": {
    "name": "ipython",
    "version": 3
   },
   "file_extension": ".py",
   "mimetype": "text/x-python",
   "name": "python",
   "nbconvert_exporter": "python",
   "pygments_lexer": "ipython3",
   "version": "3.13.0"
  }
 },
 "nbformat": 4,
 "nbformat_minor": 5
}
